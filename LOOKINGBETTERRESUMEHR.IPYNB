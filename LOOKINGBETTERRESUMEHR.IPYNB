{
 "cells": [
  {
   "cell_type": "code",
   "execution_count": 87,
   "metadata": {},
   "outputs": [],
   "source": [
    "import os\n",
    "import re\n",
    "from PyPDF2 import PdfReader\n",
    "import webbrowser"
   ]
  },
  {
   "cell_type": "code",
   "execution_count": 88,
   "metadata": {},
   "outputs": [],
   "source": [
    "#List of keywords you want to search for in resumes\n",
    "keywords = [\"python\", \"analyst\", \"data\"]"
   ]
  },
  {
   "cell_type": "code",
   "execution_count": 89,
   "metadata": {},
   "outputs": [],
   "source": [
    "#Directory where the resumes are located\n",
    "directory = r\"data/data/ENGINEERING\""
   ]
  },
  {
   "cell_type": "code",
   "execution_count": 90,
   "metadata": {},
   "outputs": [],
   "source": [
    "# Function to normalize text for keyword matching\n",
    "def normalize_text(text):\n",
    "    return re.sub(r'\\W', ' ', text).lower()"
   ]
  },
  {
   "cell_type": "code",
   "execution_count": 91,
   "metadata": {},
   "outputs": [],
   "source": [
    "# Function to search for keywords in a resume\n",
    "def search_keywords(pdf_file):\n",
    "    with open(pdf_file, 'rb') as file:\n",
    "        pdf = PdfReader(file)\n",
    "        text = ''\n",
    "        for page_num in range(len(pdf.pages)):\n",
    "            text += pdf.pages[page_num].extract_text()\n",
    "        # Normalize text by converting it to lowercase\n",
    "        text = text.lower()\n",
    "    \n",
    "    keyword_count = {}\n",
    "    for keyword in keywords:\n",
    "        variations = [keyword, keyword.upper(), keyword.lower(), keyword.capitalize()]\n",
    "        count = 0\n",
    "        for variation in variations:\n",
    "            count += len(re.findall(r'\\b{}\\b'.format(variation), text))\n",
    "        keyword_count[keyword] = count\n",
    "\n",
    "    return keyword_count"
   ]
  },
  {
   "cell_type": "code",
   "execution_count": 92,
   "metadata": {},
   "outputs": [],
   "source": [
    "# Resume count\n",
    "resume_count = 0\n"
   ]
  },
  {
   "cell_type": "code",
   "execution_count": 93,
   "metadata": {},
   "outputs": [],
   "source": [
    "# Loop through all PDF files in the directory\n",
    "for filename in os.listdir(directory):\n",
    "    if filename.endswith('.pdf'):\n",
    "        pdf_path = os.path.join(directory, filename)\n",
    "        keyword_count = search_keywords(pdf_path)\n",
    "        if all(count > 0 for count in keyword_count.values()):\n",
    "            webbrowser.open(pdf_path)\n",
    "            resume_count += 1\n",
    "        if resume_count == 3:\n",
    "            break"
   ]
  },
  {
   "cell_type": "code",
   "execution_count": null,
   "metadata": {},
   "outputs": [],
   "source": []
  }
 ],
 "metadata": {
  "kernelspec": {
   "display_name": "Python 3",
   "language": "python",
   "name": "python3"
  },
  "language_info": {
   "codemirror_mode": {
    "name": "ipython",
    "version": 3
   },
   "file_extension": ".py",
   "mimetype": "text/x-python",
   "name": "python",
   "nbconvert_exporter": "python",
   "pygments_lexer": "ipython3",
   "version": "3.12.0"
  }
 },
 "nbformat": 4,
 "nbformat_minor": 2
}
